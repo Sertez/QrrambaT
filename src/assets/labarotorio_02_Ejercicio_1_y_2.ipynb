{
  "nbformat": 4,
  "nbformat_minor": 0,
  "metadata": {
    "colab": {
      "name": "labarotorio_02_2021.ipynb",
      "provenance": [],
      "collapsed_sections": []
    },
    "kernelspec": {
      "name": "python3",
      "display_name": "Python 3"
    }
  },
  "cells": [
    {
      "cell_type": "markdown",
      "metadata": {
        "id": "Tyi_-HgB93BR"
      },
      "source": [
        "\n",
        "---\n",
        "# Algoritmos y Programación I\n",
        "\n",
        "# Laboratorio II\n",
        " ---\n",
        "# Instrucciones\n",
        "---\n",
        "\n",
        "* Antes de iniciar este laboratorio, haga una copia en su drive para que pueda trabajar esta actividad usando su archivo copiado en su drive. Para hacer una copia de este laboratorio, dirijase a \n",
        "         File->Save a copy in drive, luego click. \n",
        "Usted le puede cambiar el nombre a esta copia si así lo quiere.\n",
        "* Una vez haya finalizado su laboratorio, descargue el archivo con extensión .py, \n",
        "          File->Download .py, luego click. \n",
        "  Este archivo .py lo debe subir como evidencia del desarrollo de esta actividad.\n",
        "\n",
        "  \n",
        " ---\n",
        "# Tips\n",
        "---\n",
        "\n",
        "\n",
        "\n",
        "* Para cada ejercicio, usted debe completar la función correspondiente, y para probarla debe ejecutar el código que se encuentra en el último bloque de código (Sección Integración).\n",
        "\n",
        "* Cada vez que realice cambios a una función definida en una celda (o bloque de código), recuerde correr la celda presinando el botón con el logo de una flecha.\n"
      ]
    },
    {
      "cell_type": "markdown",
      "metadata": {
        "id": "mUOy0tsvni2z"
      },
      "source": [
        "# Torneo de Futbol"
      ]
    },
    {
      "cell_type": "markdown",
      "metadata": {
        "id": "_pR2vmBjGtoZ"
      },
      "source": [
        "El organizador de un torneo de fútbol requiere de un software que permita la gestión de su torneo, el cual debería tener las siguientes características:\n",
        "\n",
        "El torneo consta de $n$ equipos con $n$ par. Por tanto, inicialmente el software debería generar códigos (enteros positivos aleatorios diferentes) para cada uno de los $n$ equipos y registrarlos en un arreglo bidimensional con $2$ filas  y $\\frac{n}{2}$ columnas. A continuación se muestra el arreglo bidimensional para $n=10$, donde $ID_i$ son enteros positivos aleatorios diferentes:\n",
        "\n",
        "\\begin{array}{|l|l|l|l|l|l|l|l|l|l|} \\hline\n",
        "ID_1&ID_2&ID_3&ID_4&ID_5\\\\\\hline\n",
        "ID_{10}&ID_9&ID_8&ID_7&ID_6\\\\\\hline\n",
        "\\end{array}\n",
        "\n",
        "---\n",
        "Ejercicio 1\n",
        "---\n",
        "Complete la siguiente función, la cual recibe el número de equipos $n$ como parametro y debe retornar un arreglo bidimenensional (equipos), con  $2$  filas y  $m=\\frac{n}{2}$  columnas, como se muestra arriba.\n"
      ]
    },
    {
      "cell_type": "code",
      "metadata": {
        "id": "hj7_lgQ4Ig4S",
        "colab": {
          "base_uri": "https://localhost:8080/"
        },
        "outputId": "10c3a634-c6e0-45ee-d980-37d78a806880"
      },
      "source": [
        "import random\n",
        "\n",
        "def crearArregloEquipos(n):\n",
        "    #Complete esta función.\n",
        "    m=n//2\n",
        "    equipos=[[0]*m for i in range(2)]\n",
        "\n",
        "    ids = []\n",
        "\n",
        "    for i in range(2):\n",
        "      for j in range(m):\n",
        "        id = random.randint(0, n)\n",
        "        while ((id in ids) == True):\n",
        "          id = random.randint(0, n)\n",
        "        ids.append(id)\n",
        "        equipos[i][j] = id\n",
        "    \n",
        "\n",
        "    #Retornar un arreglo bidimensional  con  2  filas y  𝑛/2  columnas\n",
        "    return equipos \n",
        "crearArregloEquipos(10)"
      ],
      "execution_count": 31,
      "outputs": [
        {
          "output_type": "execute_result",
          "data": {
            "text/plain": [
              "[[4, 7, 2, 10, 9], [1, 0, 8, 6, 3]]"
            ]
          },
          "metadata": {
            "tags": []
          },
          "execution_count": 31
        }
      ]
    },
    {
      "cell_type": "markdown",
      "metadata": {
        "id": "J7M12ZIHJGmt"
      },
      "source": [
        "# Organizador de partidos\n",
        "\n",
        "Dado que el organizador posee los recursos para realizar  $m$ partidos cada fecha (posiblemente cada domingo), el torneo se jugará durante $n-1$ fechas, cada una con $m$ partidos diferentes. Para generar una planificación de los partidos a jugar en cada fecha, el software debe seguir el siguiente procedimiento:\n",
        "\n",
        "Continuando con la suposición que el número de equipos es $10$, entonces el torneo se jugará durante $9$ fechas, cada una con $5$ partidos. A continuación se enumeran los partidos a jugar en cada fecha:\n",
        "\n",
        "\n",
        "---\n",
        "Primera fecha: \n",
        "---\n",
        "\\begin{array}{|l|l|l|l|l|l|l|l|l|l|} \\hline\n",
        "ID_1&ID_2&ID_3&ID_4&ID_5\\\\\\hline\n",
        "ID_{10}&ID_9&ID_8&ID_7&ID_6\\\\\\hline\n",
        "\\end{array}\n",
        "\n",
        "\n",
        "\n",
        "*   Partido 1: el equipo $ID_1$ se enfrenta con el equipo  $ID_{10}$.\n",
        "*   Partido 2: el equipo $ID_2$ se enfrenta con el equipo  $ID_9$.\n",
        "*   Partido 3: el equipo $ID_3$ se enfrenta con el equipo  $ID_8$.\n",
        "*   Partido 4: el equipo $ID_4$ se enfrenta con el equipo  $ID_7$.\n",
        "*   Partido 5: el equipo $ID_5$ se enfrenta con el equipo  $ID_6$.\n",
        "\n",
        "---\n",
        "Segunda fecha:\n",
        "---\n",
        "\n",
        "Para obtener los partidos para la segunda fecha, la entrada con $ID_1$ se deja fija y las otras se rotan circularmente hacia la derecha. Por tanto, \n",
        "\n",
        " \n",
        "\n",
        "\\begin{array}{|l|l|l|l|l|l|l|l|l|l|} \\hline\n",
        "ID_1&ID_{10}&ID_2&ID_3&ID_4\\\\\\hline\n",
        "ID_{9}&ID_8&ID_7&ID_6&ID_5\\\\\\hline\n",
        "\\end{array}\n",
        "\n",
        "* Partido 1: el equipo $ID_1$ se enfrenta con el equipo $ID_9$.\n",
        "* Partido 2: el equipo $ID_{10}$ se enfrenta con el equipo $ID_8$.\n",
        "* Partido 3: el equipo  $ID_2$ se enfrenta con el equipo $ID_7$.\n",
        "* Partido 4: el equipo  $ID_3$ se enfrenta con el equipo $ID_6$.\n",
        "* Partido 5: el equipo $ID_4$ se enfrenta con el equipo $ID_5$.\n",
        "\n",
        "---\n",
        "Tercera fecha\n",
        "---\n",
        "\n",
        "Para obtener los partidos para la tercera fecha, la entrada con $ID_1$ se deja fija y las otras se rotan circularmente. Por tanto, \n",
        "\n",
        "\n",
        "\\begin{array}{|l|l|l|l|l|l|l|l|l|l|} \\hline\n",
        "ID_1&ID_{9}&ID_{10}&ID_2&ID_3\\\\\\hline\n",
        "ID_{8}&ID_7&ID_6&ID_5&ID_4\\\\\\hline\n",
        "\\end{array}\n",
        "\n",
        "* Partido 1: el equipo $ID_1$ se enfrenta con el equipo $ID_8$.\n",
        "* Partido 2: el equipo $ID_9$ se enfrenta con el equipo $ID_7$.\n",
        "* Partido 3: el equipo $ID_{10}$ se enfrenta con el equipo $ID_6$.\n",
        "* Partido 4: el equipo $ID_2$ se enfrenta con el equipo $ID_5$.\n",
        "* Partido 5: el equipo $ID_3$ se enfrenta con el equipo $ID_4$.\n",
        "\n",
        "---\n",
        "Última fecha\n",
        "---\n",
        "\n",
        "Siguiendo este proceso de rotación se pueden obtener todos los partidos a jugar hasta la novena fecha. En la última fecha, los partidos a jugar son los siguientes:\n",
        "\n",
        "\n",
        "\\begin{array}{|l|l|l|l|l|l|l|l|l|l|} \\hline\n",
        "ID_1&ID_{3}&ID_{4}&ID_5&ID_6\\\\\\hline\n",
        "ID_{2}&ID_{10}&ID_9&ID_8&ID_7\\\\\\hline\n",
        "\\end{array}\n",
        "\n",
        "* Partido 1: el equipo $ID_1$ se enfrenta con el equipo $ID_2$.\n",
        "* Partido 2: el equipo $ID_3$ se enfrenta con el equipo $ID_10$.\n",
        "* Partido 3: el equipo $ID_4$ se enfrenta con el equipo $ID_9$.\n",
        "* Partido 4: el equipo $ID_5$ se enfrenta con el equipo $ID_8$.\n",
        "* Partido 5: el equipo $ID_6$ se enfrenta con el equipo $ID_7$.\n",
        "\n",
        "---\n",
        "Ejercicio 2\n",
        "---\n",
        "Complete la siguiente función, la cual recibe como parametro el arreglo bidimensional de equipos y debe rotarlo una única vez como se ejemplificó anteriormente.\n",
        "\n",
        "\n"
      ]
    },
    {
      "cell_type": "code",
      "metadata": {
        "id": "r4lf7ZzDORT4"
      },
      "source": [
        "#Complete la siguiente función, la cual recibe como parametro el arreglo \n",
        "#bidimensional de equipos y debe rotarlo una única vez como se ejemplificó anteriormente.\n",
        "\n",
        "# esta función NO retorna un valor.\n",
        "def rotarMatrizDeEquipos(equipos,n):\n",
        "\n",
        "  ultimo_primera_fila = equipos[0].pop()\n",
        "\n",
        "  primero_segunda_fila = equipos[1].pop(0)\n",
        "\n",
        "  equipos[0].insert(1, primero_segunda_fila)\n",
        "  equipos[1].append(ultimo_primera_fila)\n",
        "      "
      ],
      "execution_count": 42,
      "outputs": []
    },
    {
      "cell_type": "markdown",
      "metadata": {
        "id": "nSFfeq40OiJX"
      },
      "source": [
        "# Tabla de posiciones\n",
        "\n",
        "Cada vez que un partido se juegue entre un equipo $ID_x$ y un equipo $ID_y$ , el organizador debería poder registrar el marcador final de tal partido, i.e. el número de goles del equipo $ID_x$ y el número de goles del equipo $ID_y$.  El equipo ganador será aquel que obtenga más goles que su contrincante. Si ambos obtienen la misma cantidad de goles, entonces el partido queda empatado. \n",
        "El software debe actualizar la tabla de posiciones que consta de $n$ filas (cada fila representa un equipo) y las siguientes columnas: código del equipo (ID), partidos jugados (PJ), partidos ganados (PG), partidos empatados (PE), partidos perdidos (PP), goles a favor (GF), goles en contra (GC), diferencia de goles (goles a favor - goles en contra DF),  puntos totales (PT) y una columna auxiliar extra (RA).  Para la actualización, se debe tener en cuenta que el equipo ganador, si hay, debe recibir $3$ puntos, mientras que el perdedor recibe $0$ puntos. En caso de empate, ambos equipos reciben $1$ punto.\n",
        "\n",
        "Sus tareas son las siguientes:\n",
        "\n",
        "\n",
        "\n"
      ]
    },
    {
      "cell_type": "markdown",
      "metadata": {
        "id": "y8uv4L5G-tIB"
      },
      "source": [
        "\n",
        "---\n",
        "Ejercicio 3\n",
        "---\n",
        "\n",
        "Implementar una función para crear la tabla de posiciones. Esta función retornará la tabla de posiciones que está representada con una matriz de $n$ filas y $10$ columnas. La primera columna (con indice $0$) tendrá los códigos de los $n$ equipos y las otras columnas tendrán ceros inicialmente. La última columna se usará para asignar un número aleatorio a cada equipo como última opcion de desempate  (ver Sección Organización de tabla de posiciones). Por ejemplo, con $n=10$, la función debe retornar una matriz como se muestra a continuación.\n",
        "\n",
        "\\begin{array}{llllllllll} \n",
        "ID&PJ&PG&PE&PP&GF&GC&DF&PT&RA\\\\\\hline\n",
        "ID_1&0&0&0&0&0&0&0&0&0\\\\\n",
        "ID_2&0&0&0&0&0&0&0&0&0\\\\\n",
        "ID_3&0&0&0&0&0&0&0&0&0\\\\\n",
        "ID_4&0&0&0&0&0&0&0&0&0\\\\\n",
        "ID_5&0&0&0&0&0&0&0&0&0\\\\\n",
        "ID_6&0&0&0&0&0&0&0&0&0\\\\\n",
        "ID_7&0&0&0&0&0&0&0&0&0\\\\\n",
        "ID_8&0&0&0&0&0&0&0&0&0\\\\\n",
        "ID_9&0&0&0&0&0&0&0&0&0\\\\\n",
        "ID_{10}&0&0&0&0&0&0&0&0&0\\\\\n",
        "\\end{array}\n",
        "\n",
        "\n",
        "Complete la siguiente función. Esta función debe crear la tabla de posiciones con $n$ filas y $10$ columnas, como se mostró anteriormente. La primera columna debe tener los $n$ códigos de los equipos en cualquier orden, mientras que las otras columnas deben estar llenas con cero."
      ]
    },
    {
      "cell_type": "code",
      "metadata": {
        "id": "slZ-oyTwOhtl"
      },
      "source": [
        "# ID PJ PG PE PP GF GC DF PT RA\n",
        "# 00 01 02 03 04 05 06 07 08 09\n",
        "#Esta función recibe la matriz de equipos ( 2 x (n/2)) con los códigos de los equipos y el número de equipos.\n",
        "#Esta función debe crear la tabla de posiciones con n filas y 10 columnas, como se mostró anteriormente\n",
        "# La primera columna debe tener los n códigos de los equipos en cualquier orden, mientras que las otras columnas\n",
        "# deben estar llenas con ceros.\n",
        "def crearTablaDePosicion(equipos, n):\n",
        "   \n",
        "    #Esta función retorna tablaDePosicion.\n",
        "    return tablaDePosicion\n"
      ],
      "execution_count": null,
      "outputs": []
    },
    {
      "cell_type": "markdown",
      "metadata": {
        "id": "WxcLwXmf1t4V"
      },
      "source": [
        "---\n",
        "Ejercicio 4\n",
        "---   \n",
        "\n",
        "Implementar una función para actualizar la tabla de posiciones. Basicamente la función actualizarTablaDePosicion recibe tablaDePosicion, id_x, goles_x, id_y, goles_y como parametros, y actualiza las entradas correspondientes de la matriz que representa la tabla de posición de acuerdo con lo siguiente: El equipo ganador será aquel que obtenga más goles que su contrincante. Si ambos obtienen la misma cantidad de goles, entonces el partido queda empatado. Para la actualización, se debe tener en cuenta que el equipo ganador, si hay, debe recibir $3$ puntos, mientras que el perdedor recibe $0$ puntos. En caso de empate, ambos equipos reciben $1$ punto.\n",
        "\n"
      ]
    },
    {
      "cell_type": "code",
      "metadata": {
        "id": "yzDysge8I-a3"
      },
      "source": [
        "#Implementar una función para actualizar la tabla de posiciones. \n",
        "#La función recibe \n",
        "#tablaDePosicion: una matriz con n filas y 10 columnas \n",
        "#id_x: Identificador de uno de los dos equipos\n",
        "#goles_x: Goles de equipo id_x.\n",
        "#id_y: Identificador de uno de los dos equipos.\n",
        "#goles_y: Goles de equipo id_y. \n",
        "#Esta función debe actualizar las entradas de tablaDePosicion de acuerdo con las reglas descritas anteriormente\n",
        "def actualizarTablaDePosicion(tablaDePosicion, id_x, goles_x, id_y, goles_y):\n",
        "     #Implemente una busqueda de los indices en la matriz para los equipos con códigos id_x y id_y\n",
        "     \n",
        "     #Actualización de las entradas correspondientes de acuerdo con lo siguiente\n",
        "     # El equipo ganador será aquel que obtenga más goles que su contrincante. \n",
        "     #Si ambos obtienen la misma cantidad de goles, entonces el partido queda empatado.\n",
        "     #Para la actualización, se debe tener en cuenta que el equipo ganador, si hay, debe recibir $3$ puntos, \n",
        "     #mientras que el perdedor recibe $0$ puntos. En caso de empate, ambos equipos reciben $1$ punto.\n",
        "     #Esta función No retorna nada.\n",
        "        "
      ],
      "execution_count": null,
      "outputs": []
    },
    {
      "cell_type": "markdown",
      "metadata": {
        "id": "3cQ_Ei-V915A"
      },
      "source": [
        "Esta función imprime la tabla de posiciones. Asume que la tabla es una matriz de $n$ filas y $10$ columnas, como se mostró anteriormente."
      ]
    },
    {
      "cell_type": "code",
      "metadata": {
        "id": "D_5Uc4k5sLFy"
      },
      "source": [
        "from pandas import *\n",
        "#Esta función imprime una tabla de posiciones.\n",
        "#Asume que la tabla es una matriz de n filas y 10 columnas, como se mostró anteriormente.\n",
        "#No cambiar esta función. \n",
        "def imprimirTablaPosiciones(tabla):\n",
        "     df=pandas.DataFrame(tabla)\n",
        "     df.columns = ['ID', 'PJ','PG','PE','PP','GF','GC','DF','PT','RA']\n",
        "     df=df.drop(columns=['RA'])\n",
        "     print(df.to_string(index=False))\n",
        "   "
      ],
      "execution_count": null,
      "outputs": []
    },
    {
      "cell_type": "markdown",
      "metadata": {
        "id": "clJJLvhMR9XW"
      },
      "source": [
        "# Organización de tabla de posiciones\n",
        "El organizador quiere que la tabla de posiciones se ordene de mayor a menor después de cada fecha con base en los siguientes criterios:  \n",
        "\n",
        "* Puntos totales. \n",
        "* Si hay empate de $2\\leq m\\leq n$ equipos con respecto a los puntos totales, el desempate se hará ordenando esos $m$ equipos de mayor a menor con base en la columna diferencia de goles (DF).\n",
        "\n",
        "* Si aún persiste el empate de $2\\leq k \\leq m$ equipos pese a lo anterior, el desempate se hará con respecto a la columna partidos ganados, ordenándolos de mayor a menor (PG). Finalmente si todavía hay un empate  de $ 2 \\leq l \\leq k$ equipos, este se debería resolver siguiendo el siguiente proceso: \n",
        "Para cada equipo, se seleccionará un número aleatorio $r_i$, con $0 \\leq r_i \\leq 10\n",
        "\\cdot l$, hasta que todos los números aleatorios $r_i$ sean diferentes. En tal caso los equipos se ordenan con base en los resultados de mayor a menor y así el desempate se resuelve.\n",
        "\n",
        "Para implementar este método para ordenar la tabla de posiciones, usted deberá implementar las siguiente funciones.\n",
        "\n",
        "---\n",
        "Ejercicio 5\n",
        "---  \n",
        "\n",
        "La función OrdenarDeMayorAMenorRespectoColumna recibe una matriz, numero de columnas de la matriz, un índice para alguna columna (indiceColumna, entero entre $0$ y el número de columnas menos uno), un índice para una fila inicial (indicei, entero entre $0$ y numero de filas menos uno), y un índice para la fila final (indicef, entero entre $0$ y número de filas menos uno, mayor que indicei). La función debe ordenar las filas de la tabla entre la fila con índice indicei y la fila con índice indicef en orden descedente con respecto a los valores de la columna indexada con indiceColumna. Por ejemplo, si la matriz tablaDePosicion es, digamos,\n",
        "\n",
        "\\begin{array}{|l|llllllllll|} \\hline\n",
        "&0&1&2&3&4&5&6&7&8&9\\\\\\hline\n",
        "0&23&0&0&0&0&0&0&0&3&0\\\\\n",
        "1&3&2&2&2&2&2&2&2&2&0\\\\\n",
        "2&4&1&0&1&0&1&0&1&0&0\\\\\n",
        "3&5&3&2&2&2&2&0&2&8&0\\\\\n",
        "4&2&0&0&0&0&0&0&0&6&0\\\\\n",
        "5&24&0&0&0&0&0&0&2&5&0\\\\\n",
        "6&92&0&0&0&0&0&0&0&2&0\\\\\n",
        "7&9&0&0&0&0&0&0&0&0&0\\\\\n",
        "8&10&0&0&0&0&0&0&0&1&0\\\\\n",
        "9&0&0&0&0&0&0&0&0&2&0\\\\\\hline\n",
        "\\end{array}\n",
        "\n",
        "\n",
        "\n",
        "\n",
        "entonces el llamado OrdenarDeMayorAMenorRespectoColumna(tablaDePosicion,$10,8, 1, 4)$ debería ordernar las filas (entre $1$ y $4$) de la matriz  descendentemente con respecto a la columna con índice $8$ (PT). Es decir, la tabla de posiciones ordenda es:\n",
        "\n",
        "\n",
        "\n",
        "\\begin{array}{|l|llllllllll|} \\hline\n",
        "&0&1&2&3&4&5&6&7&8&9\\\\\\hline\n",
        "0&23&0&0&0&0&0&0&0&3&0\\\\\n",
        "3&5&3&2&2&2&2&0&2&8&0\\\\\n",
        "4&2&0&0&0&0&0&0&0&6&0\\\\\n",
        "1&3&2&2&2&2&2&2&2&2&0\\\\\n",
        "2&4&1&0&1&0&1&0&1&0&0\\\\\n",
        "5&24&0&0&0&0&0&0&2&5&0\\\\\n",
        "6&92&0&0&0&0&0&0&0&2&0\\\\\n",
        "7&9&0&0&0&0&0&0&0&0&0\\\\\n",
        "8&10&0&0&0&0&0&0&0&1&0\\\\\n",
        "9&0&0&0&0&0&0&0&0&2&0\\\\\\hline\n",
        "\\end{array}\n",
        "\n"
      ]
    },
    {
      "cell_type": "code",
      "metadata": {
        "id": "GxOI12tVVAjM"
      },
      "source": [
        "def OrdenarDeMayorAMenorRespectoColumna(tablaDePosicion, numeroColumnas,indiceColumna, indicei, indicef):\n",
        "     #Implemente su código desde aqui.\n",
        "\n",
        "\n",
        "     #Esta función No retorna nada."
      ],
      "execution_count": null,
      "outputs": []
    },
    {
      "cell_type": "markdown",
      "metadata": {
        "id": "YzZUk3hpSCLe"
      },
      "source": [
        "---\n",
        "Ejercicio 6\n",
        "---  \n",
        "\n",
        "\n",
        "\n",
        "La función OrdenarDeMayorAMenorAleatorio recibe una matriz, numero de columnas de la matriz, un índice para alguna columna (indiceColumna, entero entre 0 y el número de columnas menos uno), un índice para una fila inicial (indicei, entero entre $0$ y numero de filas menos $1$), y un índice para la fila final (indicef, entero entre $0$ y número de filas menos $1$, mayor que indicei). La función debe asignar un número aleatorio diferente $r_i$, con $0 \\leq r_i \\leq 10\n",
        "\\cdot (indicef-indicei+1)$, a cada entrada $[i, indiceColumna]$  de tablaDePosicion, donde $indicei \\leq i \\leq indicef$. Y luego ordenar las filas de tablaDePosicion entre la fila con índice $indicei$ y la fila con índice $indicef$ en orden descedente con respecto a los valores de la columna indexada con $indiceColumna$. \n",
        "\n"
      ]
    },
    {
      "cell_type": "code",
      "metadata": {
        "id": "dUfhWX1pRTje"
      },
      "source": [
        "import randomrdenarDeM\n",
        "def OrdenarDeMayorAMenorAleatorio(tablaDePosicion, numeroColumnas,indiceColumna, indicei, indicef):\n",
        "     #Implemente su código desde aqui.\n",
        "            \n",
        "     #Esta función No retorna nada.\n",
        "        "
      ],
      "execution_count": null,
      "outputs": []
    },
    {
      "cell_type": "markdown",
      "metadata": {
        "id": "671siMdAKjYZ"
      },
      "source": [
        "\n",
        "---\n",
        "Función Auxiliar\n",
        "--- \n",
        "La función EncontrarRepetidos recibe una matriz, número de columnas de la matriz, un índice para alguna columna (indiceColumna, entero entre 0 y el número de columnas menos uno), un índice para una fila inicial (indicei, entero entre 0 y número de filas menos 1), y un índice para la fila final (indicef, entero entre 0 y número de filas menos 1, mayor que indicei). La función retorna un arreglo de tuplas que representan secuencias de números repetidos  en la columna con indice indiceColumna entre las filas con indices indicei y indicef. Por ejemplo, si la matriz tablaDePosicion es, digamos,\n",
        "\n",
        "\\begin{array}{|l|llllllllll|} \\hline\n",
        "&0&1&2&3&4&5&6&7&8&9\\\\\\hline\n",
        "0&23&0&0&0&0&0&0&0&\\textbf{0}&0\\\\\n",
        "1&3&2&2&2&2&2&2&2&\\textbf{0}&0\\\\\n",
        "2&4&1&0&1&0&1&0&1&1&0\\\\\n",
        "3&5&3&2&2&2&2&0&2&8&0\\\\\n",
        "4&2&0&0&0&0&0&0&0&6&0\\\\\n",
        "5&24&0&0&0&0&0&0&2&5&0\\\\\n",
        "6&92&0&0&0&0&0&0&0&\\textbf{4}&0\\\\\n",
        "7&9&0&0&0&0&0&0&0&\\textbf{4}&0\\\\\n",
        "8&10&0&0&0&0&0&0&0&\\textbf{4}&0\\\\\n",
        "9&0&0&0&0&0&0&0&0&\\textbf{4}&0\\\\\\hline\n",
        "\\end{array}\n",
        "\n",
        "\n",
        "\n",
        "entonces el llamado EncontrarRepetidos(tablaDePosicion$, 10,8, 0, 9)$ debería retornar el siguiente arreglo de tuplas $[(0,1),(6,9)]$. La tupla $(0,1)$ representa la secuencia de ceros entre las filas $0$ y $1$ de la columnna $8$ . Por su parte $(6,9)$ representa la secuencia de cuatros entre las filas $6$ y $9$ de la columna $8$ \n",
        "\n",
        "\n"
      ]
    },
    {
      "cell_type": "code",
      "metadata": {
        "id": "BBcFeglmERnI"
      },
      "source": [
        "#No cambiar esta función\n",
        "def EncontrarRepetidos(tablaDePosicion, numeroColumnas,indiceColumna, indicei, indicef):\n",
        "       repetidos=[]\n",
        "       i=indicei\n",
        "       while i<=indicef:\n",
        "         first=tablaDePosicion[i][indiceColumna]\n",
        "         j=i+1\n",
        "         while (j<=indicef and first==tablaDePosicion[j][indiceColumna]):\n",
        "              j=j+1  \n",
        "         \n",
        "         if (i<j-1):\n",
        "             repetidos.append((i, j-1))\n",
        "         i=j\n",
        "      \n",
        "       return repetidos    "
      ],
      "execution_count": null,
      "outputs": []
    },
    {
      "cell_type": "markdown",
      "metadata": {
        "id": "XSAcwzkDUKvx"
      },
      "source": [
        "---\n",
        "Función para organizar tabla de posiciones\n",
        "--- "
      ]
    },
    {
      "cell_type": "code",
      "metadata": {
        "id": "Xq-5TcxLNXIv"
      },
      "source": [
        "#No cambiar esta función\n",
        "def organizarTabla(tablaDePosicion, n):\n",
        "     OrdenarDeMayorAMenorRespectoColumna(tablaDePosicion,10,8, 0, n-1)\n",
        "     rep1=EncontrarRepetidos(tablaDePosicion, 10,8, 0, n-1)\n",
        "     for t1 in rep1:\n",
        "          OrdenarDeMayorAMenorRespectoColumna(tablaDePosicion,10,7, t1[0], t1[1]) \n",
        "          rep2=EncontrarRepetidos(tablaDePosicion, 10,7, t1[0],t1[1] ) \n",
        "          for t2 in rep2:\n",
        "            OrdenarDeMayorAMenorRespectoColumna(tablaDePosicion,10,2, t2[0], t2[1]) \n",
        "            rep3=EncontrarRepetidos(tablaDePosicion, 10,2, t2[0],t2[1] ) \n",
        "            for t3 in rep3:\n",
        "                OrdenarDeMayorAMenorAleatorio(tablaDePosicion, 10,9,t3[0], t3[1])\n",
        "    "
      ],
      "execution_count": null,
      "outputs": []
    },
    {
      "cell_type": "markdown",
      "metadata": {
        "id": "1RoFoMZOUTJz"
      },
      "source": [
        "# Estadísticas del torneo\n",
        "\n",
        "El organizador quiere que la tabla de posiciones se pueda imprimir en cualquier momento de la ejecución del torneo; además quiere obtener la siguiente información de la tabla de posiciones:\n",
        "\n",
        "\n",
        "*  Equipos con mayor y menor cantidad de puntos.\n",
        "*  Equipos con mayor y menor cantidad de partidos ganados.\n",
        "*  Equipos con mayor y menor cantidad de partidos empatados.\n",
        "*  Equipos con mayor y menor cantidad de partidos perdidos.\n",
        "*  Equipos con mayor y menor cantidad de goles a favor.\n",
        "*  Equipos con mayor y menor cantidad de goles en contra.\n"
      ]
    },
    {
      "cell_type": "markdown",
      "metadata": {
        "id": "WzXACzxqYCdz"
      },
      "source": [
        "---\n",
        "Ejercicio 7\n",
        "---  \n",
        "\n",
        "La función calculoMenorRespectoColumna recibe la tabla de posiciones,  un índice para alguna columna (indiceColumna, entero entre 1 y el número de columnas menos uno), y el número de filas. La función debe retornar los códigos de los equipos con el menor valor de la columna con índice indiceColumna. Por ejemplo, el llamado calculoMenorRespectoColumna(tablaDePosicion,7, 10), donde la tabla es la que se muestra a continuación, debería retornar $[23, 2, 9,93, 10,3]$\n",
        "\n",
        "\n",
        "\\begin{array}{|l|llllllllll|} \\hline\n",
        "&0&1&2&3&4&5&6&7&8&9\\\\\\hline\n",
        "0&23&0&0&0&0&0&0&0&3&0\\\\\n",
        "1&33&2&2&2&2&2&2&2&2&0\\\\\n",
        "2&4&1&0&1&0&1&0&1&0&0\\\\\n",
        "3&5&3&2&2&2&2&0&2&8&0\\\\\n",
        "4&2&0&0&0&0&0&0&0&6&0\\\\\n",
        "5&24&0&0&0&0&0&0&2&5&0\\\\\n",
        "6&9&0&0&0&0&0&0&0&2&0\\\\\n",
        "7&93&0&0&0&0&0&0&0&0&0\\\\\n",
        "8&10&0&0&0&0&0&0&0&1&0\\\\\n",
        "9&3&0&0&0&0&0&0&0&2&0\\\\\\hline\n",
        "\\end{array}\n",
        "\n",
        "\n",
        "\n",
        "\n",
        "\n",
        "\n"
      ]
    },
    {
      "cell_type": "code",
      "metadata": {
        "id": "2krbEjVlVDIC"
      },
      "source": [
        "def calculoMenorRespectoColumna(tablaDePosicion, indiceColumna, n):\n",
        "       \n",
        "     #Esta función retorna un arreglo con los códigos de los equipos con el menor valor en la columna con índice indiceColumna.\n",
        "     return codigos"
      ],
      "execution_count": null,
      "outputs": []
    },
    {
      "cell_type": "markdown",
      "metadata": {
        "id": "RR11uJ-Jaxmb"
      },
      "source": [
        "---\n",
        "Ejercicio 8\n",
        "---  \n",
        "\n",
        "La función calculoMayorRespectoColumna recibe la tabla de posiciones,  un índice para alguna columna (indiceColumna, entero entre 1 y el número de columnas menos uno), y el número de filas. La función debe retornar los códigos de los equipos con el mayor valor en la columna con índice indiceColumna. Por ejemplo, el llamado calculoMenorRespectoColumna(tablaDePosicion,7, 10), donde la tabla es la que se muestra a continuación,  debería retornar $[33,5,24]$\n",
        "\n",
        "\n",
        "\\begin{array}{|l|llllllllll|} \\hline\n",
        "&0&1&2&3&4&5&6&7&8&9\\\\\\hline\n",
        "0&23&0&0&0&0&0&0&0&3&0\\\\\n",
        "1&33&2&2&2&2&2&2&2&2&0\\\\\n",
        "2&4&1&0&1&0&1&0&1&0&0\\\\\n",
        "3&5&3&2&2&2&2&0&2&8&0\\\\\n",
        "4&2&0&0&0&0&0&0&0&6&0\\\\\n",
        "5&24&0&0&0&0&0&0&2&5&0\\\\\n",
        "6&9&0&0&0&0&0&0&0&2&0\\\\\n",
        "7&93&0&0&0&0&0&0&0&0&0\\\\\n",
        "8&10&0&0&0&0&0&0&0&1&0\\\\\n",
        "9&3&0&0&0&0&0&0&0&2&0\\\\\\hline\n",
        "\\end{array}\n"
      ]
    },
    {
      "cell_type": "code",
      "metadata": {
        "id": "d9nEH6QtCSPh"
      },
      "source": [
        "def calculoMayorRespectoColumna(tablaDePosicion, indiceColumna, n):\n",
        "  \n",
        "       #Esta función retorna un arreglo con los códigos de los equipos con el mayor valor en la columna con índice indiceColumna.\n",
        "       return codigos"
      ],
      "execution_count": null,
      "outputs": []
    },
    {
      "cell_type": "markdown",
      "metadata": {
        "id": "0uZgtE65ik80"
      },
      "source": [
        "# Integración\n",
        "\n",
        "En esta sección usaremos todas las funciones construidas previamente para crear un programa que de solución a los requerimientos funcionales especificados.\n",
        "\n"
      ]
    },
    {
      "cell_type": "code",
      "metadata": {
        "id": "T1FnINzsi9yf",
        "colab": {
          "base_uri": "https://localhost:8080/",
          "height": 279
        },
        "outputId": "42a17ef5-b452-49dc-ebc4-961b2f101dec"
      },
      "source": [
        "print('Bienvenidos a tu programa para gestión de un torneo de futbol')\n",
        "\n",
        "print('Digite la cantidad de equipos en el torneo')\n",
        "n=int(input())\n",
        "while n % 2 ==1:\n",
        "   print('Digite la cantidad de equipos en el torneo')\n",
        "   n=int(input())\n",
        "\n",
        "\n",
        "equipos=crearArregloEquipos(n)\n",
        "tablaDePosicion=crearTablaDePosicion(equipos, n)\n",
        "\n",
        "for i in range(1,n):\n",
        "    print('Quiere jugar la fecha ', i, ' (si: S, no: N)')\n",
        "    respuesta=input()\n",
        "    if respuesta=='S':\n",
        "       print('Generando los partidos para la fecha ', i)\n",
        "       if i>1:\n",
        "          rotarMatrizDeEquipos(equipos,n)\n",
        "       for j in range(int(n/2)):\n",
        "          print('Partido ', j+1)\n",
        "          print('Equipo ' , equipos[0][j], ' Vs ', 'Equipo ', equipos[1][j])\n",
        "          print('Goles anotados por equipo ' , equipos[0][j])\n",
        "          goles_x=int(input())\n",
        "          while goles_x<0:\n",
        "            print('Goles anotados por equipo ' , equipos[0][j])\n",
        "            goles_x=int(input())\n",
        "          print('Goles anotados por equipo ' , equipos[1][j])\n",
        "          goles_y=int(input())\n",
        "          while goles_y<0:\n",
        "            print('Goles anotados por equipo ' , equipos[1][j])\n",
        "            goles_y=int(input())\n",
        "          actualizarTablaDePosicion(tablaDePosicion, equipos[0][j], goles_x, equipos[1][j], goles_y)\n",
        "          #imprimirTablaPosiciones(tablaDePosicion)\n",
        "\n",
        "    print('Desea organizar e imprimir la tabla de posiciones (si: S, no: N)')\n",
        "    respuesta=input()\n",
        "    if respuesta=='S': \n",
        "       organizarTabla(tablaDePosicion, n)\n",
        "       imprimirTablaPosiciones(tablaDePosicion)\n",
        "\n",
        "    print('Quiere ver estadísticas?')\n",
        "    respuesta=input()\n",
        "    if respuesta=='S': \n",
        "       resp2=1\n",
        "       while resp2!=0:\n",
        "         print('Digite una opción')\n",
        "         print('0.Salir')\n",
        "         print('1.Equipos con mayor y menor cantidad de puntos')\n",
        "         print('2.Equipos con mayor y menor cantidad de partidos ganados')\n",
        "         print('3.Equipos con mayor y menor cantidad de partidos empatados')\n",
        "         print('4.Equipos con mayor y menor cantidad de partidos perdidos')\n",
        "         print('5.Equipos con mayor y menor cantidad de goles a favor')\n",
        "         print('6.Equipos con mayor y menor cantidad de goles en contra')\n",
        "         resp2=int(input())\n",
        "         if   resp2==1:\n",
        "              menor=calculoMenorRespectoColumna(tablaDePosicion, 8, n) \n",
        "              mayor=calculoMayorRespectoColumna(tablaDePosicion, 8, n)\n",
        "              print('Equipos con mayor cantidad de puntos es ', mayor)\n",
        "              print('Equipos con menor cantidad de puntos  es ', menor)\n",
        "         elif resp==2:\n",
        "              menor=calculoMenorRespectoColumna(tablaDePosicion, 2, n)\n",
        "              mayor=calculoMayorRespectoColumna(tablaDePosicion, 2, n)\n",
        "              print('Equipos con mayor cantidad de partidos ganados es ', mayor)\n",
        "              print('Equipos con menor cantidad de partidos ganados es ', menor)\n",
        "         elif resp==3:\n",
        "              menor=calculoMenorRespectoColumna(tablaDePosicion, 3, n)\n",
        "              mayor=calculoMayorRespectoColumna(tablaDePosicion, 3, n)\n",
        "              print('Equipos con mayor cantidad de partidos empatados es ', mayor)\n",
        "              print('Equipos con menor cantidad de partidos empatados es ', menor)\n",
        "         elif resp==4:\n",
        "              menor=calculoMenorRespectoColumna(tablaDePosicion, 4, n)\n",
        "              mayor=calculoMayorRespectoColumna(tablaDePosicion, 4, n)\n",
        "              print('Equipos con mayor cantidad de partidos perdidos es ', mayor)\n",
        "              print('Equipos con menor cantidad de partidos perdidos es ', menor)\n",
        "         elif resp==5:\n",
        "              menor=calculoMenorRespectoColumna(tablaDePosicion, 5, n)\n",
        "              mayor=calculoMayorRespectoColumna(tablaDePosicion, 5, n)\n",
        "              print('Equipos con mayor cantidad de goles a favor es ', mayor)\n",
        "              print('Equipos con menor cantidad de goles a favor es ', menor)\n",
        "         elif resp==6:\n",
        "              menor=calculoMenorRespectoColumna(tablaDePosicion, 6, n)\n",
        "              mayor=calculoMayorRespectoColumna(tablaDePosicion, 6, n)\n",
        "              print('Equipos con mayor cantidad de goles en contra es ', mayor)\n",
        "              print('Equipos con menor cantidad de goles en contra es ', menor)\n",
        "         \n",
        "\n"
      ],
      "execution_count": 5,
      "outputs": [
        {
          "output_type": "stream",
          "text": [
            "Bienvenidos a tu programa para gestión de un torneo de futbol\n",
            "Digite la cantidad de equipos en el torneo\n",
            "10\n"
          ],
          "name": "stdout"
        },
        {
          "output_type": "error",
          "ename": "NameError",
          "evalue": "ignored",
          "traceback": [
            "\u001b[0;31m---------------------------------------------------------------------------\u001b[0m",
            "\u001b[0;31mNameError\u001b[0m                                 Traceback (most recent call last)",
            "\u001b[0;32m<ipython-input-5-de4dfd244d2e>\u001b[0m in \u001b[0;36m<module>\u001b[0;34m()\u001b[0m\n\u001b[1;32m      9\u001b[0m \u001b[0;34m\u001b[0m\u001b[0m\n\u001b[1;32m     10\u001b[0m \u001b[0mequipos\u001b[0m\u001b[0;34m=\u001b[0m\u001b[0mcrearArregloEquipos\u001b[0m\u001b[0;34m(\u001b[0m\u001b[0mn\u001b[0m\u001b[0;34m)\u001b[0m\u001b[0;34m\u001b[0m\u001b[0;34m\u001b[0m\u001b[0m\n\u001b[0;32m---> 11\u001b[0;31m \u001b[0mtablaDePosicion\u001b[0m\u001b[0;34m=\u001b[0m\u001b[0mcrearTablaDePosicion\u001b[0m\u001b[0;34m(\u001b[0m\u001b[0mequipos\u001b[0m\u001b[0;34m,\u001b[0m \u001b[0mn\u001b[0m\u001b[0;34m)\u001b[0m\u001b[0;34m\u001b[0m\u001b[0;34m\u001b[0m\u001b[0m\n\u001b[0m\u001b[1;32m     12\u001b[0m \u001b[0;34m\u001b[0m\u001b[0m\n\u001b[1;32m     13\u001b[0m \u001b[0;32mfor\u001b[0m \u001b[0mi\u001b[0m \u001b[0;32min\u001b[0m \u001b[0mrange\u001b[0m\u001b[0;34m(\u001b[0m\u001b[0;36m1\u001b[0m\u001b[0;34m,\u001b[0m\u001b[0mn\u001b[0m\u001b[0;34m)\u001b[0m\u001b[0;34m:\u001b[0m\u001b[0;34m\u001b[0m\u001b[0;34m\u001b[0m\u001b[0m\n",
            "\u001b[0;31mNameError\u001b[0m: name 'crearTablaDePosicion' is not defined"
          ]
        }
      ]
    }
  ]
}